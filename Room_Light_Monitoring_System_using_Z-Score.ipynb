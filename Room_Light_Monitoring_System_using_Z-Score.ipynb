{
  "cells": [
    {
      "cell_type": "markdown",
      "metadata": {
        "id": "M15KiynyLkv2"
      },
      "source": [
        "#**Room Light Monitoring System using Z-Score**\n",
        "![resize-1724004565260865797IMG20240818225629458HDR2compressed.jpg](data:image/jpeg;base64,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) ![resize-17240046111056655708IMG20240818225657108HDRcompressed.jpg](data:image/jpeg;base64,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)"
      ]
    },
    {
      "cell_type": "markdown",
      "metadata": {
        "id": "7pV7zh_NLxtE"
      },
      "source": [
        "##**Things used in this project**\n",
        "**Hardware components**\n",
        " * Bolt IoT Bolt WiFi Module\n",
        " * LDR ( Light Dependent Resistor ) sensor\n",
        " * 10k ohm (Brown, Black, Orange) coded Resistor\n",
        " * Jumper wires\n",
        "\n",
        "**Software components**\n",
        " * Twilio\n",
        " * Python"
      ]
    },
    {
      "cell_type": "markdown",
      "metadata": {
        "id": "k_ZxY0bJNfQ2"
      },
      "source": [
        "##**Story**\n",
        "We all know that plants require sunlight for their healthy growth. However, at times we may not be able to keep a track of it or maybe we are not sure if our plants are getting enough sunlight.\n",
        "\n",
        "In this project, we will build a system so that we could monitor the light our plants get and send the data to Bolt Cloud. In fact, this product is commercially available by Xiaomi . But as makers, we shall build this product on our own."
      ]
    },
    {
      "cell_type": "markdown",
      "metadata": {
        "id": "VlEUPl5zNrkV"
      },
      "source": [
        "##**Gathering all required components**\n",
        "* Bolt WiFi Module\n",
        "* LDR ( Light Dependent Resistor ) sensor\n",
        "* 10k ohm (Brown, Black, Orange) coded Resistor\n",
        "* Breadboard\n",
        "* Wires"
      ]
    },
    {
      "cell_type": "markdown",
      "metadata": {
        "id": "NhL9fQ7NR-he"
      },
      "source": [
        "##**Installing BoltIoT library**"
      ]
    },
    {
      "cell_type": "code",
      "execution_count": 1,
      "metadata": {
        "colab": {
          "base_uri": "https://localhost:8080/"
        },
        "id": "QJM50OCibcWJ",
        "outputId": "6d3ab3aa-757e-476c-d384-d767be2048bc"
      },
      "outputs": [
        {
          "output_type": "stream",
          "name": "stdout",
          "text": [
            "Requirement already satisfied: boltiot in /usr/local/lib/python3.10/dist-packages (1.11.2)\n",
            "Requirement already satisfied: twilio in /usr/local/lib/python3.10/dist-packages (from boltiot) (9.2.3)\n",
            "Requirement already satisfied: requests in /usr/local/lib/python3.10/dist-packages (from boltiot) (2.32.3)\n",
            "Requirement already satisfied: charset-normalizer<4,>=2 in /usr/local/lib/python3.10/dist-packages (from requests->boltiot) (3.3.2)\n",
            "Requirement already satisfied: idna<4,>=2.5 in /usr/local/lib/python3.10/dist-packages (from requests->boltiot) (3.7)\n",
            "Requirement already satisfied: urllib3<3,>=1.21.1 in /usr/local/lib/python3.10/dist-packages (from requests->boltiot) (2.0.7)\n",
            "Requirement already satisfied: certifi>=2017.4.17 in /usr/local/lib/python3.10/dist-packages (from requests->boltiot) (2024.7.4)\n",
            "Requirement already satisfied: PyJWT<3.0.0,>=2.0.0 in /usr/local/lib/python3.10/dist-packages (from twilio->boltiot) (2.9.0)\n",
            "Requirement already satisfied: aiohttp>=3.8.4 in /usr/local/lib/python3.10/dist-packages (from twilio->boltiot) (3.10.3)\n",
            "Requirement already satisfied: aiohttp-retry>=2.8.3 in /usr/local/lib/python3.10/dist-packages (from twilio->boltiot) (2.8.3)\n",
            "Requirement already satisfied: aiohappyeyeballs>=2.3.0 in /usr/local/lib/python3.10/dist-packages (from aiohttp>=3.8.4->twilio->boltiot) (2.3.5)\n",
            "Requirement already satisfied: aiosignal>=1.1.2 in /usr/local/lib/python3.10/dist-packages (from aiohttp>=3.8.4->twilio->boltiot) (1.3.1)\n",
            "Requirement already satisfied: attrs>=17.3.0 in /usr/local/lib/python3.10/dist-packages (from aiohttp>=3.8.4->twilio->boltiot) (24.2.0)\n",
            "Requirement already satisfied: frozenlist>=1.1.1 in /usr/local/lib/python3.10/dist-packages (from aiohttp>=3.8.4->twilio->boltiot) (1.4.1)\n",
            "Requirement already satisfied: multidict<7.0,>=4.5 in /usr/local/lib/python3.10/dist-packages (from aiohttp>=3.8.4->twilio->boltiot) (6.0.5)\n",
            "Requirement already satisfied: yarl<2.0,>=1.0 in /usr/local/lib/python3.10/dist-packages (from aiohttp>=3.8.4->twilio->boltiot) (1.9.4)\n",
            "Requirement already satisfied: async-timeout<5.0,>=4.0 in /usr/local/lib/python3.10/dist-packages (from aiohttp>=3.8.4->twilio->boltiot) (4.0.3)\n"
          ]
        }
      ],
      "source": [
        "!pip install boltiot"
      ]
    },
    {
      "cell_type": "markdown",
      "metadata": {
        "id": "pICXjoaRSFFj"
      },
      "source": [
        "##**Importing required libraries**"
      ]
    },
    {
      "cell_type": "code",
      "execution_count": 2,
      "metadata": {
        "id": "H92ygDe1AkSd"
      },
      "outputs": [],
      "source": [
        "import json, time, math, statistics\n",
        "from boltiot import Sms, Bolt"
      ]
    },
    {
      "cell_type": "markdown",
      "metadata": {
        "id": "28iVzwRrStxU"
      },
      "source": [
        "##**Adding credentials of Bolt Module and Twilio Account**"
      ]
    },
    {
      "cell_type": "code",
      "execution_count": 3,
      "metadata": {
        "id": "N076R6PIMurf"
      },
      "outputs": [],
      "source": [
        "api_key = \"XXXXXXXX-XXXX-XXXX-XXXX-XXXXXXXXXXXX\"\n",
        "device_id = \"BOLTXXXXXXX\"\n",
        "mybolt = Bolt(api_key,device_id)\n",
        "\n",
        "SID = \"XXXXXXXXXXXXXXXXXXXXXXXXXXXXXXXXXX\"\n",
        "auth_token = \"XXXXXXXXXXXXXXXXXXXXXXXXXXXXXXXX\"\n",
        "to_number = \"+91XXXXXXXXXX\"\n",
        "from_number = \"+16XXXXXXXX\"\n",
        "sms = Sms(SID,auth_token,to_number,from_number)\n",
        "\n",
        "FRAME_SIZE = 10\n",
        "MUL_FACTOR = 6"
      ]
    },
    {
      "cell_type": "code",
      "execution_count": 4,
      "metadata": {
        "colab": {
          "base_uri": "https://localhost:8080/"
        },
        "id": "61cp1gPdFdnU",
        "outputId": "88ebf096-bf7d-43dc-dffc-e24ed0750275"
      },
      "outputs": [
        {
          "output_type": "stream",
          "name": "stdout",
          "text": [
            "['{', 'value', ': ', 'online', ', ', 'time', ': ', 'Thu 2024-08-22 05:47:14 UTC', ', ', 'success', ': 1}']\n"
          ]
        }
      ],
      "source": [
        "split = mybolt.isOnline().split('\"')\n",
        "print(split)"
      ]
    },
    {
      "cell_type": "code",
      "execution_count": 16,
      "metadata": {
        "id": "-QLHqmWilgXv"
      },
      "outputs": [],
      "source": [
        "def compute_bounds( history_data, frame_size, factor ):\n",
        "    if (len(history_data)<frame_size) :\n",
        "        return None\n",
        "    if (len(history_data)>frame_size) :\n",
        "        del history_data[0:len(history_data)-frame_size]\n",
        "    mean = statistics.mean(history_data)\n",
        "    variance = 0\n",
        "    for data in history_data :\n",
        "        variance += math.pow( (data-mean) , 2)\n",
        "    Zn = factor * math.sqrt(variance/frame_size)\n",
        "    High_bound = history_data[frame_size-1]+Zn\n",
        "    Low_bound = history_data[frame_size-1]-Zn\n",
        "    return [High_bound,Low_bound]"
      ]
    },
    {
      "cell_type": "markdown",
      "metadata": {
        "id": "AsO15b9SS9gX"
      },
      "source": [
        "##**Light Intensity Monitoring Code**"
      ]
    },
    {
      "cell_type": "code",
      "execution_count": 18,
      "metadata": {
        "colab": {
          "base_uri": "https://localhost:8080/",
          "height": 1000
        },
        "id": "npDlnRm3ufKZ",
        "outputId": "c2af215a-0f75-42f9-ef5b-2be0a599d785"
      },
      "outputs": [
        {
          "output_type": "stream",
          "name": "stdout",
          "text": [
            "This is the value 1024\n",
            "Not enough data to compute Z-score. Need  10  more data points\n",
            "This is the value 1024\n",
            "Not enough data to compute Z-score. Need  9  more data points\n",
            "This is the value 1024\n",
            "Not enough data to compute Z-score. Need  8  more data points\n",
            "This is the value 1024\n",
            "Not enough data to compute Z-score. Need  7  more data points\n",
            "This is the value 1024\n",
            "Not enough data to compute Z-score. Need  6  more data points\n",
            "This is the value 1024\n",
            "Not enough data to compute Z-score. Need  5  more data points\n",
            "This is the value 1024\n",
            "Not enough data to compute Z-score. Need  4  more data points\n",
            "This is the value 1024\n",
            "Not enough data to compute Z-score. Need  3  more data points\n",
            "This is the value 1024\n",
            "Not enough data to compute Z-score. Need  2  more data points\n",
            "This is the value 1024\n",
            "Not enough data to compute Z-score. Need  1  more data points\n",
            "This is the value 1024\n",
            "This is the value 1024\n",
            "This is the value 1024\n",
            "This is the value 1024\n",
            "This is the value 1024\n",
            "This is the value 1024\n",
            "This is the value 145\n",
            "The light level decreased suddenly. Sending an SMS.\n",
            "This is the response  <Twilio.Api.V2010.MessageInstance account_sid=XXXXXXXXXXXXXXXXXXXXXXXXXXXXXXXXXX sid=XXXXXXXXXXXXXXXXXXXXXXXXXXXXXXXXXX>\n",
            "This is the value 38\n",
            "This is the value 41\n",
            "This is the value 1024\n",
            "This is the value 1024\n"
          ]
        }
      ],
      "source": [
        "if( split[3]==\"offline\" ):\n",
        "    print(\"Bolt is offline. Please check connections\")\n",
        "    exit()\n",
        "else:\n",
        "  history_data = [ ]\n",
        "  while (True):\n",
        "    response = mybolt.analogRead('A0')\n",
        "    data = json.loads(response)\n",
        "    current_time = time.asctime().split(' ')[3]\n",
        "    if (data['success']) != 1:\n",
        "        print(\"There was an error while retriving the data.\")\n",
        "        print(\"This is the error:\"+data['value'])\n",
        "\n",
        "        continue\n",
        "\n",
        "    print (\"This is the value \"+data['value'])\n",
        "    sensor_value=0\n",
        "    try:\n",
        "        sensor_value = int(data['value'])\n",
        "    except e:\n",
        "        print(\"There was an error while parsing the response: \",e)\n",
        "        continue\n",
        "\n",
        "    bound = compute_bounds(history_data,FRAME_SIZE, MUL_FACTOR)\n",
        "    if not bound:\n",
        "        required_data_count = FRAME_SIZE-len( history_data )\n",
        "        print(\"Not enough data to compute Z-score. Need \",required_data_count,\" more data points\")\n",
        "        history_data.append( int(data['value']) )\n",
        "\n",
        "        continue\n",
        "\n",
        "    try:\n",
        "        if (sensor_value > bound[0]) :\n",
        "            print (\"The light level increased suddenly. Sending an SMS.\")\n",
        "            response = sms.send_sms(\"Someone turned on the lights\")\n",
        "            print(\"This is the response \",response)\n",
        "        elif (sensor_value < bound[1]):\n",
        "            print (\"The light level decreased suddenly. Sending an SMS.\")\n",
        "            response = sms.send_sms(\"Someone turned off the lights\")\n",
        "            print(\"This is the response \",response)\n",
        "        history_data.append( int(data['value']) );\n",
        "    except Exception as e:\n",
        "        print (\"Error\",e)\n",
        ""
      ]
    },
    {
      "cell_type": "markdown",
      "metadata": {
        "id": "5iFcM5fz28D-"
      },
      "source": [
        "##**Readings from sensor**"
      ]
    },
    {
      "cell_type": "code",
      "execution_count": 19,
      "metadata": {
        "id": "O74yw_H7rcOd",
        "outputId": "fbcc4c4d-70f4-40bd-c418-9487ac43aa44",
        "colab": {
          "base_uri": "https://localhost:8080/"
        }
      },
      "outputs": [
        {
          "output_type": "stream",
          "name": "stdout",
          "text": [
            "[1024, 1024, 1024, 1024, 1024, 1024, 145, 38, 41, 1024, 1024]\n"
          ]
        }
      ],
      "source": [
        "print(history_data)"
      ]
    },
    {
      "cell_type": "markdown",
      "metadata": {
        "id": "8ge2HM9_5CXI"
      },
      "source": [
        "##**Table of Light Intensity**"
      ]
    },
    {
      "cell_type": "code",
      "execution_count": 20,
      "metadata": {
        "id": "yDXDNhT54ylP",
        "colab": {
          "base_uri": "https://localhost:8080/",
          "height": 394
        },
        "outputId": "39500d4a-a226-4447-c481-6389b69ced3d"
      },
      "outputs": [
        {
          "output_type": "execute_result",
          "data": {
            "text/plain": [
              "    Light Intensity\n",
              "0              1024\n",
              "1              1024\n",
              "2              1024\n",
              "3              1024\n",
              "4              1024\n",
              "5              1024\n",
              "6               145\n",
              "7                38\n",
              "8                41\n",
              "9              1024\n",
              "10             1024"
            ],
            "text/html": [
              "\n",
              "  <div id=\"df-c8438033-2782-4bcc-ac2a-9495f610136f\" class=\"colab-df-container\">\n",
              "    <div>\n",
              "<style scoped>\n",
              "    .dataframe tbody tr th:only-of-type {\n",
              "        vertical-align: middle;\n",
              "    }\n",
              "\n",
              "    .dataframe tbody tr th {\n",
              "        vertical-align: top;\n",
              "    }\n",
              "\n",
              "    .dataframe thead th {\n",
              "        text-align: right;\n",
              "    }\n",
              "</style>\n",
              "<table border=\"1\" class=\"dataframe\">\n",
              "  <thead>\n",
              "    <tr style=\"text-align: right;\">\n",
              "      <th></th>\n",
              "      <th>Light Intensity</th>\n",
              "    </tr>\n",
              "  </thead>\n",
              "  <tbody>\n",
              "    <tr>\n",
              "      <th>0</th>\n",
              "      <td>1024</td>\n",
              "    </tr>\n",
              "    <tr>\n",
              "      <th>1</th>\n",
              "      <td>1024</td>\n",
              "    </tr>\n",
              "    <tr>\n",
              "      <th>2</th>\n",
              "      <td>1024</td>\n",
              "    </tr>\n",
              "    <tr>\n",
              "      <th>3</th>\n",
              "      <td>1024</td>\n",
              "    </tr>\n",
              "    <tr>\n",
              "      <th>4</th>\n",
              "      <td>1024</td>\n",
              "    </tr>\n",
              "    <tr>\n",
              "      <th>5</th>\n",
              "      <td>1024</td>\n",
              "    </tr>\n",
              "    <tr>\n",
              "      <th>6</th>\n",
              "      <td>145</td>\n",
              "    </tr>\n",
              "    <tr>\n",
              "      <th>7</th>\n",
              "      <td>38</td>\n",
              "    </tr>\n",
              "    <tr>\n",
              "      <th>8</th>\n",
              "      <td>41</td>\n",
              "    </tr>\n",
              "    <tr>\n",
              "      <th>9</th>\n",
              "      <td>1024</td>\n",
              "    </tr>\n",
              "    <tr>\n",
              "      <th>10</th>\n",
              "      <td>1024</td>\n",
              "    </tr>\n",
              "  </tbody>\n",
              "</table>\n",
              "</div>\n",
              "    <div class=\"colab-df-buttons\">\n",
              "\n",
              "  <div class=\"colab-df-container\">\n",
              "    <button class=\"colab-df-convert\" onclick=\"convertToInteractive('df-c8438033-2782-4bcc-ac2a-9495f610136f')\"\n",
              "            title=\"Convert this dataframe to an interactive table.\"\n",
              "            style=\"display:none;\">\n",
              "\n",
              "  <svg xmlns=\"http://www.w3.org/2000/svg\" height=\"24px\" viewBox=\"0 -960 960 960\">\n",
              "    <path d=\"M120-120v-720h720v720H120Zm60-500h600v-160H180v160Zm220 220h160v-160H400v160Zm0 220h160v-160H400v160ZM180-400h160v-160H180v160Zm440 0h160v-160H620v160ZM180-180h160v-160H180v160Zm440 0h160v-160H620v160Z\"/>\n",
              "  </svg>\n",
              "    </button>\n",
              "\n",
              "  <style>\n",
              "    .colab-df-container {\n",
              "      display:flex;\n",
              "      gap: 12px;\n",
              "    }\n",
              "\n",
              "    .colab-df-convert {\n",
              "      background-color: #E8F0FE;\n",
              "      border: none;\n",
              "      border-radius: 50%;\n",
              "      cursor: pointer;\n",
              "      display: none;\n",
              "      fill: #1967D2;\n",
              "      height: 32px;\n",
              "      padding: 0 0 0 0;\n",
              "      width: 32px;\n",
              "    }\n",
              "\n",
              "    .colab-df-convert:hover {\n",
              "      background-color: #E2EBFA;\n",
              "      box-shadow: 0px 1px 2px rgba(60, 64, 67, 0.3), 0px 1px 3px 1px rgba(60, 64, 67, 0.15);\n",
              "      fill: #174EA6;\n",
              "    }\n",
              "\n",
              "    .colab-df-buttons div {\n",
              "      margin-bottom: 4px;\n",
              "    }\n",
              "\n",
              "    [theme=dark] .colab-df-convert {\n",
              "      background-color: #3B4455;\n",
              "      fill: #D2E3FC;\n",
              "    }\n",
              "\n",
              "    [theme=dark] .colab-df-convert:hover {\n",
              "      background-color: #434B5C;\n",
              "      box-shadow: 0px 1px 3px 1px rgba(0, 0, 0, 0.15);\n",
              "      filter: drop-shadow(0px 1px 2px rgba(0, 0, 0, 0.3));\n",
              "      fill: #FFFFFF;\n",
              "    }\n",
              "  </style>\n",
              "\n",
              "    <script>\n",
              "      const buttonEl =\n",
              "        document.querySelector('#df-c8438033-2782-4bcc-ac2a-9495f610136f button.colab-df-convert');\n",
              "      buttonEl.style.display =\n",
              "        google.colab.kernel.accessAllowed ? 'block' : 'none';\n",
              "\n",
              "      async function convertToInteractive(key) {\n",
              "        const element = document.querySelector('#df-c8438033-2782-4bcc-ac2a-9495f610136f');\n",
              "        const dataTable =\n",
              "          await google.colab.kernel.invokeFunction('convertToInteractive',\n",
              "                                                    [key], {});\n",
              "        if (!dataTable) return;\n",
              "\n",
              "        const docLinkHtml = 'Like what you see? Visit the ' +\n",
              "          '<a target=\"_blank\" href=https://colab.research.google.com/notebooks/data_table.ipynb>data table notebook</a>'\n",
              "          + ' to learn more about interactive tables.';\n",
              "        element.innerHTML = '';\n",
              "        dataTable['output_type'] = 'display_data';\n",
              "        await google.colab.output.renderOutput(dataTable, element);\n",
              "        const docLink = document.createElement('div');\n",
              "        docLink.innerHTML = docLinkHtml;\n",
              "        element.appendChild(docLink);\n",
              "      }\n",
              "    </script>\n",
              "  </div>\n",
              "\n",
              "\n",
              "<div id=\"df-3651f489-b6a1-4b57-813c-a6a9598356b3\">\n",
              "  <button class=\"colab-df-quickchart\" onclick=\"quickchart('df-3651f489-b6a1-4b57-813c-a6a9598356b3')\"\n",
              "            title=\"Suggest charts\"\n",
              "            style=\"display:none;\">\n",
              "\n",
              "<svg xmlns=\"http://www.w3.org/2000/svg\" height=\"24px\"viewBox=\"0 0 24 24\"\n",
              "     width=\"24px\">\n",
              "    <g>\n",
              "        <path d=\"M19 3H5c-1.1 0-2 .9-2 2v14c0 1.1.9 2 2 2h14c1.1 0 2-.9 2-2V5c0-1.1-.9-2-2-2zM9 17H7v-7h2v7zm4 0h-2V7h2v10zm4 0h-2v-4h2v4z\"/>\n",
              "    </g>\n",
              "</svg>\n",
              "  </button>\n",
              "\n",
              "<style>\n",
              "  .colab-df-quickchart {\n",
              "      --bg-color: #E8F0FE;\n",
              "      --fill-color: #1967D2;\n",
              "      --hover-bg-color: #E2EBFA;\n",
              "      --hover-fill-color: #174EA6;\n",
              "      --disabled-fill-color: #AAA;\n",
              "      --disabled-bg-color: #DDD;\n",
              "  }\n",
              "\n",
              "  [theme=dark] .colab-df-quickchart {\n",
              "      --bg-color: #3B4455;\n",
              "      --fill-color: #D2E3FC;\n",
              "      --hover-bg-color: #434B5C;\n",
              "      --hover-fill-color: #FFFFFF;\n",
              "      --disabled-bg-color: #3B4455;\n",
              "      --disabled-fill-color: #666;\n",
              "  }\n",
              "\n",
              "  .colab-df-quickchart {\n",
              "    background-color: var(--bg-color);\n",
              "    border: none;\n",
              "    border-radius: 50%;\n",
              "    cursor: pointer;\n",
              "    display: none;\n",
              "    fill: var(--fill-color);\n",
              "    height: 32px;\n",
              "    padding: 0;\n",
              "    width: 32px;\n",
              "  }\n",
              "\n",
              "  .colab-df-quickchart:hover {\n",
              "    background-color: var(--hover-bg-color);\n",
              "    box-shadow: 0 1px 2px rgba(60, 64, 67, 0.3), 0 1px 3px 1px rgba(60, 64, 67, 0.15);\n",
              "    fill: var(--button-hover-fill-color);\n",
              "  }\n",
              "\n",
              "  .colab-df-quickchart-complete:disabled,\n",
              "  .colab-df-quickchart-complete:disabled:hover {\n",
              "    background-color: var(--disabled-bg-color);\n",
              "    fill: var(--disabled-fill-color);\n",
              "    box-shadow: none;\n",
              "  }\n",
              "\n",
              "  .colab-df-spinner {\n",
              "    border: 2px solid var(--fill-color);\n",
              "    border-color: transparent;\n",
              "    border-bottom-color: var(--fill-color);\n",
              "    animation:\n",
              "      spin 1s steps(1) infinite;\n",
              "  }\n",
              "\n",
              "  @keyframes spin {\n",
              "    0% {\n",
              "      border-color: transparent;\n",
              "      border-bottom-color: var(--fill-color);\n",
              "      border-left-color: var(--fill-color);\n",
              "    }\n",
              "    20% {\n",
              "      border-color: transparent;\n",
              "      border-left-color: var(--fill-color);\n",
              "      border-top-color: var(--fill-color);\n",
              "    }\n",
              "    30% {\n",
              "      border-color: transparent;\n",
              "      border-left-color: var(--fill-color);\n",
              "      border-top-color: var(--fill-color);\n",
              "      border-right-color: var(--fill-color);\n",
              "    }\n",
              "    40% {\n",
              "      border-color: transparent;\n",
              "      border-right-color: var(--fill-color);\n",
              "      border-top-color: var(--fill-color);\n",
              "    }\n",
              "    60% {\n",
              "      border-color: transparent;\n",
              "      border-right-color: var(--fill-color);\n",
              "    }\n",
              "    80% {\n",
              "      border-color: transparent;\n",
              "      border-right-color: var(--fill-color);\n",
              "      border-bottom-color: var(--fill-color);\n",
              "    }\n",
              "    90% {\n",
              "      border-color: transparent;\n",
              "      border-bottom-color: var(--fill-color);\n",
              "    }\n",
              "  }\n",
              "</style>\n",
              "\n",
              "  <script>\n",
              "    async function quickchart(key) {\n",
              "      const quickchartButtonEl =\n",
              "        document.querySelector('#' + key + ' button');\n",
              "      quickchartButtonEl.disabled = true;  // To prevent multiple clicks.\n",
              "      quickchartButtonEl.classList.add('colab-df-spinner');\n",
              "      try {\n",
              "        const charts = await google.colab.kernel.invokeFunction(\n",
              "            'suggestCharts', [key], {});\n",
              "      } catch (error) {\n",
              "        console.error('Error during call to suggestCharts:', error);\n",
              "      }\n",
              "      quickchartButtonEl.classList.remove('colab-df-spinner');\n",
              "      quickchartButtonEl.classList.add('colab-df-quickchart-complete');\n",
              "    }\n",
              "    (() => {\n",
              "      let quickchartButtonEl =\n",
              "        document.querySelector('#df-3651f489-b6a1-4b57-813c-a6a9598356b3 button');\n",
              "      quickchartButtonEl.style.display =\n",
              "        google.colab.kernel.accessAllowed ? 'block' : 'none';\n",
              "    })();\n",
              "  </script>\n",
              "</div>\n",
              "\n",
              "  <div id=\"id_4babb8f5-362a-406b-8a25-00503f49c063\">\n",
              "    <style>\n",
              "      .colab-df-generate {\n",
              "        background-color: #E8F0FE;\n",
              "        border: none;\n",
              "        border-radius: 50%;\n",
              "        cursor: pointer;\n",
              "        display: none;\n",
              "        fill: #1967D2;\n",
              "        height: 32px;\n",
              "        padding: 0 0 0 0;\n",
              "        width: 32px;\n",
              "      }\n",
              "\n",
              "      .colab-df-generate:hover {\n",
              "        background-color: #E2EBFA;\n",
              "        box-shadow: 0px 1px 2px rgba(60, 64, 67, 0.3), 0px 1px 3px 1px rgba(60, 64, 67, 0.15);\n",
              "        fill: #174EA6;\n",
              "      }\n",
              "\n",
              "      [theme=dark] .colab-df-generate {\n",
              "        background-color: #3B4455;\n",
              "        fill: #D2E3FC;\n",
              "      }\n",
              "\n",
              "      [theme=dark] .colab-df-generate:hover {\n",
              "        background-color: #434B5C;\n",
              "        box-shadow: 0px 1px 3px 1px rgba(0, 0, 0, 0.15);\n",
              "        filter: drop-shadow(0px 1px 2px rgba(0, 0, 0, 0.3));\n",
              "        fill: #FFFFFF;\n",
              "      }\n",
              "    </style>\n",
              "    <button class=\"colab-df-generate\" onclick=\"generateWithVariable('df')\"\n",
              "            title=\"Generate code using this dataframe.\"\n",
              "            style=\"display:none;\">\n",
              "\n",
              "  <svg xmlns=\"http://www.w3.org/2000/svg\" height=\"24px\"viewBox=\"0 0 24 24\"\n",
              "       width=\"24px\">\n",
              "    <path d=\"M7,19H8.4L18.45,9,17,7.55,7,17.6ZM5,21V16.75L18.45,3.32a2,2,0,0,1,2.83,0l1.4,1.43a1.91,1.91,0,0,1,.58,1.4,1.91,1.91,0,0,1-.58,1.4L9.25,21ZM18.45,9,17,7.55Zm-12,3A5.31,5.31,0,0,0,4.9,8.1,5.31,5.31,0,0,0,1,6.5,5.31,5.31,0,0,0,4.9,4.9,5.31,5.31,0,0,0,6.5,1,5.31,5.31,0,0,0,8.1,4.9,5.31,5.31,0,0,0,12,6.5,5.46,5.46,0,0,0,6.5,12Z\"/>\n",
              "  </svg>\n",
              "    </button>\n",
              "    <script>\n",
              "      (() => {\n",
              "      const buttonEl =\n",
              "        document.querySelector('#id_4babb8f5-362a-406b-8a25-00503f49c063 button.colab-df-generate');\n",
              "      buttonEl.style.display =\n",
              "        google.colab.kernel.accessAllowed ? 'block' : 'none';\n",
              "\n",
              "      buttonEl.onclick = () => {\n",
              "        google.colab.notebook.generateWithVariable('df');\n",
              "      }\n",
              "      })();\n",
              "    </script>\n",
              "  </div>\n",
              "\n",
              "    </div>\n",
              "  </div>\n"
            ],
            "application/vnd.google.colaboratory.intrinsic+json": {
              "type": "dataframe",
              "variable_name": "df",
              "summary": "{\n  \"name\": \"df\",\n  \"rows\": 11,\n  \"fields\": [\n    {\n      \"column\": \"Light Intensity\",\n      \"properties\": {\n        \"dtype\": \"number\",\n        \"std\": 444,\n        \"min\": 38,\n        \"max\": 1024,\n        \"num_unique_values\": 4,\n        \"samples\": [\n          145,\n          41,\n          1024\n        ],\n        \"semantic_type\": \"\",\n        \"description\": \"\"\n      }\n    }\n  ]\n}"
            }
          },
          "metadata": {},
          "execution_count": 20
        }
      ],
      "source": [
        "import pandas as pd\n",
        "df = pd.DataFrame(history_data,columns=['Light Intensity'])\n",
        "df"
      ]
    },
    {
      "cell_type": "markdown",
      "metadata": {
        "id": "BSLmiFRC3KH0"
      },
      "source": [
        "##**Plotting the graph**"
      ]
    },
    {
      "cell_type": "code",
      "execution_count": 24,
      "metadata": {
        "id": "1pguNMFK0a7d",
        "colab": {
          "base_uri": "https://localhost:8080/",
          "height": 472
        },
        "outputId": "d5ec6795-f4cd-4948-f020-49a32f0bb8f6"
      },
      "outputs": [
        {
          "output_type": "display_data",
          "data": {
            "text/plain": [
              "<Figure size 640x480 with 1 Axes>"
            ],
            "image/png": "[encoded data removed]"
          },
          "metadata": {}
        }
      ],
      "source": [
        "import matplotlib.pyplot as plt\n",
        "\n",
        "plt.plot(history_data)\n",
        "\n",
        "plt.axhline( y = 1024, color = 'r', linestyle = '--', label = 'Constant' )\n",
        "\n",
        "plt.xlabel('Time')\n",
        "plt.ylabel('Light Intensity')\n",
        "plt.title('Room Light Intensity Monitoring')\n",
        "plt.legend()\n",
        "\n",
        "plt.show()"
      ]
    },
    {
      "cell_type": "markdown",
      "metadata": {
        "id": "1eWXzmBCoUFS"
      },
      "source": [
        "##**Alert on phone through SMS for light intensity (sensor value) greater and less than maximum and minimum intensity (sensor value)**"
      ]
    },
    {
      "cell_type": "markdown",
      "metadata": {
        "id": "nkAm2JTZr3Hk"
      },
      "source": [
        "![resize-17243087791751902666Screenshot20240822120607.png](data:image/png;base64,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)"
      ]
    }
  ],
  "metadata": {
    "colab": {
      "provenance": []
    },
    "kernelspec": {
      "display_name": "Python 3",
      "name": "python3"
    },
    "language_info": {
      "name": "python"
    }
  },
  "nbformat": 4,
  "nbformat_minor": 0
}
